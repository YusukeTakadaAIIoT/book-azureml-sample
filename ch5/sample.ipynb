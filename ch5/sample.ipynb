{
  "cells": [
    {
      "cell_type": "markdown",
      "metadata": {},
      "source": [
        "# conda仮想環境作成\n",
        "- 環境定義ファイルを格納するディレクトリを作成"
      ]
    },
    {
      "cell_type": "code",
      "execution_count": null,
      "metadata": {},
      "outputs": [],
      "source": [
        "import os\n",
        "\n",
        "env_dir = \"./env\"\n",
        "os.makedirs(env_dir, exist_ok=True)"
      ]
    },
    {
      "cell_type": "markdown",
      "metadata": {},
      "source": [
        "- 環境定義ファイルを作成"
      ]
    },
    {
      "cell_type": "code",
      "execution_count": null,
      "metadata": {},
      "outputs": [],
      "source": [
        "%%writefile {env_dir}/conda.yml\n",
        "name: azureml-book-ch5-env\n",
        "channels:\n",
        "  - defaults\n",
        "dependencies:\n",
        "  - python=3.10.4\n",
        "  - pip=24.0\n",
        "  - pip: \n",
        "    - azureml-mlflow==1.55.0\n",
        "    - azure-ai-ml==1.15.0\n",
        "    - azure-identity==1.16.0\n",
        "    - python-dotenv==1.0.1\n",
        "    - ipykernel==6.29.4\n",
        "    - mlflow==2.12.1\n",
        "    - lightgbm==4.3.0\n",
        "    - scikit-learn==1.4.2\n",
        "    - azureml-fsspec==1.3.1"
      ]
    },
    {
      "cell_type": "markdown",
      "metadata": {
        "id": "AHW5mJEMNcGp"
      },
      "source": [
        "# モデル開発\n",
        "- LightGBMで回帰モデルを作成"
      ]
    },
    {
      "cell_type": "code",
      "execution_count": null,
      "metadata": {
        "executionInfo": {
          "elapsed": 388,
          "status": "ok",
          "timestamp": 1636614599286,
          "user": {
            "displayName": "李万宇",
            "photoUrl": "https://lh3.googleusercontent.com/a-/AOh14GgL6QlaaH1MxPrzoHKA3ag6tqpBKrPo0E9vJxYj4g=s64",
            "userId": "01804867656979680118"
          },
          "user_tz": -540
        },
        "gather": {
          "logged": 1677721733611
        },
        "id": "AHYyZaqQNXQ6"
      },
      "outputs": [],
      "source": [
        "import pandas as pd\n",
        "import numpy as np\n",
        "import pickle\n",
        "import lightgbm as lgb\n",
        "from sklearn.metrics import mean_squared_error\n",
        "import pandas as pd\n",
        "\n",
        "# RMSEを計算する関数\n",
        "def rmse(validation, target):\n",
        "    return np.sqrt(mean_squared_error(validation, target))\n",
        "\n",
        "# 学習データと検証データの読み込み\n",
        "df_train = pd.read_csv(\"../data/Walmert_train.csv\")\n",
        "df_valid = pd.read_csv(\"../data/Walmert_valid.csv\")\n",
        "\n",
        "# Date列からMonth列とDay列を追加し、Date列を削除\n",
        "df_train['Month'] = pd.to_datetime(df_train['Date']).dt.month\n",
        "df_train['Day'] = pd.to_datetime(df_train['Date']).dt.day\n",
        "df_train = df_train.drop(columns='Date')\n",
        "df_valid['Month'] = pd.to_datetime(df_valid['Date']).dt.month\n",
        "df_valid['Day'] = pd.to_datetime(df_valid['Date']).dt.day\n",
        "df_valid = df_valid.drop(columns='Date')\n",
        "\n",
        "# ターゲット変数となる列名を指定\n",
        "col_target = \"Weekly_Sales\"\n",
        "\n",
        "# 学習データと検証データを、特徴量とターゲット変数に分割\n",
        "X_train = df_train.drop(columns=col_target)\n",
        "y_train = df_train[col_target].to_numpy().ravel()\n",
        "X_valid = df_valid.drop(columns=col_target)\n",
        "y_valid = df_valid[col_target].to_numpy().ravel()\n",
        "\n",
        "# LightGBMのデータセットに変換\n",
        "train_data = lgb.Dataset(X_train, label=y_train)\n",
        "\n",
        "# ハイパーパラメータの設定\n",
        "params = {\n",
        "    'objective': 'regression',\n",
        "    'metric': 'rmse',\n",
        "    'num_leaves': 31,\n",
        "    'learning_rate': 0.05\n",
        "}\n",
        "\n",
        "# モデルの学習\n",
        "model = lgb.train(params, train_data, num_boost_round=100)\n",
        "\n",
        "# モデルの保存\n",
        "pickle.dump(model, open(\"./model.pkl\", \"wb\"))\n",
        "\n",
        "# 検証データでRMSEを算出\n",
        "preds = model.predict(X_valid)\n",
        "print(rmse(df_valid[col_target], preds))\n"
      ]
    },
    {
      "cell_type": "markdown",
      "metadata": {},
      "source": [
        "# Azure Machine Learningワークスペース接続\n",
        "- 接続のためのクレデンシャル取得"
      ]
    },
    {
      "cell_type": "code",
      "execution_count": null,
      "metadata": {},
      "outputs": [],
      "source": [
        "from azure.ai.ml import MLClient\n",
        "from azure.identity import DefaultAzureCredential\n",
        "\n",
        "credential = DefaultAzureCredential()"
      ]
    },
    {
      "cell_type": "markdown",
      "metadata": {},
      "source": [
        "- Azure Machine Learningワークスペースへ接続するためのハンドルを取得"
      ]
    },
    {
      "cell_type": "code",
      "execution_count": null,
      "metadata": {},
      "outputs": [],
      "source": [
        "ml_client = MLClient(\n",
        "    credential=credential,\n",
        "    subscription_id=\"<SUBSCRIPTION_ID>\",\n",
        "    resource_group_name=\"<RESOURCE_GROUP>\",\n",
        "    workspace_name=\"<AML_WORKSPACE_NAME>\",\n",
        ")"
      ]
    },
    {
      "cell_type": "markdown",
      "metadata": {},
      "source": [
        "# データアセット登録\n",
        "- 学習データをアセット登録"
      ]
    },
    {
      "cell_type": "code",
      "execution_count": null,
      "metadata": {},
      "outputs": [],
      "source": [
        "from azure.ai.ml.entities import Data\n",
        "from azure.ai.ml.constants import AssetTypes\n",
        "\n",
        "# 登録するデータアセットのバージョン指定(例: \"1\")\n",
        "VERSION = \"1\"\n",
        "\n",
        "# 学習データのパス指定\n",
        "# local: './<path>/<file>' (対象データは自動的にデフォルトのデータストアへアップロードされる)\n",
        "# blob:  'wasbs://<container_name>@<account_name>.blob.core.windows.net/<path>/<file>'\n",
        "# ADLS gen2: 'abfss://<file_system>@<account_name>.dfs.core.windows.net/<path>/<file>'\n",
        "# Datastore: 'azureml://datastores/<data_store_name>/paths/<path>/<file>'\n",
        "path = \"../data/Walmert_train.csv\"\n",
        "\n",
        "# 学習データのアセット定義\n",
        "my_data = Data(\n",
        "    path=path,\n",
        "    type=AssetTypes.URI_FILE,\n",
        "    description=\"ウォルマートの売上履歴 学習データセット\",\n",
        "    name=\"Walmart_store_sales_train\",\n",
        "    version=VERSION,\n",
        ")\n",
        "\n",
        "# 学習データのアセット作成\n",
        "ml_client.data.create_or_update(my_data)"
      ]
    },
    {
      "cell_type": "markdown",
      "metadata": {},
      "source": [
        "- 検証データをアセット登録"
      ]
    },
    {
      "cell_type": "code",
      "execution_count": null,
      "metadata": {},
      "outputs": [],
      "source": [
        "# 検証データのパス指定\n",
        "path = \"../data/Walmert_valid.csv\"\n",
        "\n",
        "# 検証データのアセット定義\n",
        "my_data = Data(\n",
        "    path=path,\n",
        "    type=AssetTypes.URI_FILE,\n",
        "    description=\"ウォルマートの売上履歴　検証データセット\",\n",
        "    name=\"Walmart_store_sales_valid\",\n",
        "    version=VERSION,\n",
        ")\n",
        "\n",
        "# 検証データのアセット作成\n",
        "ml_client.data.create_or_update(my_data)"
      ]
    },
    {
      "cell_type": "markdown",
      "metadata": {},
      "source": [
        "# 環境の作成"
      ]
    },
    {
      "cell_type": "code",
      "execution_count": null,
      "metadata": {},
      "outputs": [],
      "source": [
        "import os\n",
        "from azure.ai.ml.entities import Environment\n",
        "\n",
        "custom_env_name = \"walmart-store-sales-env\"\n",
        "env_dir = \"./env\"\n",
        "\n",
        "custom_job_env = Environment(\n",
        "    name=custom_env_name,\n",
        "    description=\"ウォルマート売上予測モデルの学習ジョブ用の環境\",\n",
        "    tags={\"lightgbm\": \"4.3.0\"},\n",
        "    conda_file=os.path.join(env_dir, \"conda.yml\"),\n",
        "    image=\"mcr.microsoft.com/azureml/openmpi4.1.0-ubuntu20.04:latest\",\n",
        ")\n",
        "custom_job_env = ml_client.environments.create_or_update(custom_job_env)\n",
        "\n",
        "print(\n",
        "    f\"{custom_job_env.name} 環境をAzure Machine Learningワークスペースへ登録しました。環境バージョンは {custom_job_env.version} です。\"\n",
        ")"
      ]
    },
    {
      "cell_type": "markdown",
      "metadata": {},
      "source": [
        "# 学習スクリプト作成\n",
        "- 学習スクリプト格納先フォルダ作成"
      ]
    },
    {
      "cell_type": "code",
      "execution_count": null,
      "metadata": {},
      "outputs": [],
      "source": [
        "import os\n",
        "\n",
        "env_dir = \"./src\"\n",
        "os.makedirs(env_dir, exist_ok=True)"
      ]
    },
    {
      "cell_type": "markdown",
      "metadata": {},
      "source": [
        "- 学習スクリプト作成"
      ]
    },
    {
      "cell_type": "code",
      "execution_count": null,
      "metadata": {},
      "outputs": [],
      "source": [
        "%%writefile ./src/main.py\n",
        "import os\n",
        "import argparse\n",
        "import pandas as pd\n",
        "import mlflow\n",
        "import mlflow.sklearn\n",
        "import numpy as np\n",
        "import lightgbm as lgb\n",
        "from azure.ai.ml import MLClient\n",
        "from azure.identity import DefaultAzureCredential\n",
        "\n",
        "\n",
        "def main():\n",
        "    \"\"\"メイン関数\"\"\"\n",
        "\n",
        "    # パラメータ\n",
        "    parser = argparse.ArgumentParser()\n",
        "    parser.add_argument(\"--num_leaves\", type=int, default=31, help=\"学習率\")\n",
        "    parser.add_argument(\"--learning_rate\", type=float, default=0.05, help=\"1本の木の最大葉枚数\")\n",
        "    parser.add_argument(\"--registered_model_name\", type=str, help=\"登録するモデル名\")\n",
        "    parser.add_argument(\"--train_data_path\", type=str, help=\"学習データアセットパス\")\n",
        "    parser.add_argument(\"--valid_data_path\", type=str, help=\"検証データアセットパス\")\n",
        "\n",
        "    args = parser.parse_args()\n",
        "\n",
        "    # Azure Machine Learningワークスペースへの接続\n",
        "    credential = DefaultAzureCredential(exclude_workload_identity_credential=True)\n",
        "    ml_client = MLClient(\n",
        "        credential=credential,\n",
        "\t\tsubscription_id=\"<SUBSCRIPTION_ID>\",\n",
        "\t\tresource_group_name=\"<RESOURCE_GROUP>\",\n",
        "\t\tworkspace_name=\"<AML_WORKSPACE_NAME>\",\n",
        "    )\n",
        "\n",
        "    # ロギング開始\n",
        "    mlflow.start_run()\n",
        "\n",
        "    # 自動ロギング有効化\n",
        "    mlflow.lightgbm.autolog()\n",
        "\n",
        "    ###################\n",
        "    #<データ準備>\n",
        "    ###################\n",
        "\n",
        "    # 学習データと検証データの読み込み\n",
        "    df_train = pd.read_csv(args.train_data_path)\n",
        "    df_valid = pd.read_csv(args.valid_data_path)\n",
        "\n",
        "    # Date列からMonth列とDay列を追加し、Date列を削除\n",
        "    df_train['Month'] = pd.to_datetime(df_train['Date']).dt.month\n",
        "    df_train['Day'] = pd.to_datetime(df_train['Date']).dt.day\n",
        "    df_train = df_train.drop(columns='Date')\n",
        "    df_valid['Month'] = pd.to_datetime(df_valid['Date']).dt.month\n",
        "    df_valid['Day'] = pd.to_datetime(df_valid['Date']).dt.day\n",
        "    df_valid = df_valid.drop(columns='Date')\n",
        "    \n",
        "    # ターゲット変数となる列名を指定\n",
        "    col_target = \"Weekly_Sales\"\n",
        "\n",
        "    # 学習データと検証データを、特徴量とターゲット変数に分割\n",
        "    X_train = df_train.drop(columns=col_target)\n",
        "    y_train = df_train[col_target].to_numpy().ravel()\n",
        "    X_valid = df_valid.drop(columns=col_target)\n",
        "    y_valid = df_valid[col_target].to_numpy().ravel()\n",
        "\n",
        "    # LightGBMのデータセットに変換\n",
        "    train_data = lgb.Dataset(X_train, label=y_train)\n",
        "    valid_data = lgb.Dataset(X_valid, label=y_valid)\n",
        "\n",
        "    ####################\n",
        "    #</データ準備>\n",
        "    ####################\n",
        "\n",
        "    ##################\n",
        "    #<学習>\n",
        "    ##################\n",
        "    # ハイパーパラメータの設定\n",
        "    params = {\n",
        "        'objective': 'regression',\n",
        "        'metric': 'rmse',\n",
        "        'num_leaves': args.num_leaves,\n",
        "        'learning_rate': args.learning_rate\n",
        "    }\n",
        "\n",
        "    # モデルの学習\n",
        "    model = lgb.train(params=params, train_set=train_data,\n",
        "                        num_boost_round=100, valid_sets=valid_data)\n",
        "\n",
        "\n",
        "    ###################\n",
        "    #</学習>\n",
        "    ###################\n",
        "\n",
        "    ##########################\n",
        "    #<モデル登録>\n",
        "    ##########################\n",
        "    # 学習済みモデルをAzure Machine Learningワークスペースへ登録\n",
        "    mlflow.lightgbm.log_model(\n",
        "        lgb_model=model,\n",
        "        registered_model_name=args.registered_model_name,\n",
        "        artifact_path=args.registered_model_name\n",
        "    )\n",
        "\n",
        "    ###########################\n",
        "    #</モデル登録>\n",
        "    ###########################\n",
        "\n",
        "    # ロギング停止\n",
        "    mlflow.end_run()\n",
        "\n",
        "if __name__ == \"__main__\":\n",
        "    main()"
      ]
    },
    {
      "cell_type": "markdown",
      "metadata": {},
      "source": [
        "# 学習ジョブ実行\n",
        "- 学習ジョブの構成を定義"
      ]
    },
    {
      "cell_type": "code",
      "execution_count": null,
      "metadata": {},
      "outputs": [],
      "source": [
        "from azure.ai.ml import command\n",
        "from azure.ai.ml import Input\n",
        "from azure.ai.ml.constants import AssetTypes\n",
        "\n",
        "train_data_name = ml_client.data.get(name=\"Walmart_store_sales_train\", version=\"1\")\n",
        "valid_data_name = ml_client.data.get(name=\"Walmart_store_sales_valid\", version=\"1\")\n",
        "\n",
        "# 学習スクリプト引数設定\n",
        "inputs = {\n",
        "    # ジョブの入力として学習データ指定\n",
        "    \"train_data_path\": Input(\n",
        "            type=AssetTypes.URI_FILE,\n",
        "            path=train_data_name.id\n",
        "    ),\n",
        "    # ジョブの入力として検証データ指定\n",
        "    \"valid_data_path\": Input(\n",
        "            type=AssetTypes.URI_FILE,\n",
        "            path=valid_data_name.id\n",
        "    ),\n",
        "    # 1本の木の最大葉枚数\n",
        "    \"num_leaves\" : 30,\n",
        "    # 学習率\n",
        "    \"learning_rate\" : 0.04,\n",
        "    # 登録するモデル名\n",
        "    \"registered_model_name\" : \"Walmart_store_sales_model\"\n",
        "}\n",
        "\n",
        "# 学習ジョブの構成\n",
        "job = command(\n",
        "    # 学習スクリプト引数\n",
        "    inputs=inputs,\n",
        "    # 学習スクリプトの格納場所\n",
        "    code=\"./src/\",\n",
        "    # 学習スクリプトの実行コマンド\n",
        "    command=\"python main.py --num_leaves ${{inputs.num_leaves}} --learning_rate ${{inputs.learning_rate}} --registered_model_name ${{inputs.registered_model_name}} --train_data_path ${{inputs.train_data_path}} --valid_data_path ${{inputs.valid_data_path}}\",\n",
        "    # 環境 ( @latest で最新版を指定。 :バージョン数 でバージョン指定も可)\n",
        "    environment=\"walmart-store-sales-env@latest\",\n",
        "    # 実験名\n",
        "    experiment_name=\"train_walmart_store_sales_prediction\",\n",
        "    # ジョブの表示名\n",
        "    display_name=\"walmart_store_sales_prediction\"\n",
        ")"
      ]
    },
    {
      "cell_type": "markdown",
      "metadata": {},
      "source": [
        "- 学習ジョブ実行"
      ]
    },
    {
      "cell_type": "code",
      "execution_count": null,
      "metadata": {},
      "outputs": [],
      "source": [
        "job = ml_client.create_or_update(job)\n",
        "# ジョブ実行が完了するまで待機\n",
        "ml_client.jobs.stream(job.name)"
      ]
    },
    {
      "cell_type": "code",
      "execution_count": null,
      "metadata": {},
      "outputs": [],
      "source": []
    }
  ],
  "metadata": {
    "colab": {
      "authorship_tag": "ABX9TyPb+eRpM2iB0aNljFjcfHb1",
      "collapsed_sections": [],
      "name": "Prediction.ipynb",
      "provenance": [],
      "toc_visible": true
    },
    "kernel_info": {
      "name": "mlops-workshop-env"
    },
    "kernelspec": {
      "display_name": "azureml-book-ch5-env",
      "language": "python",
      "name": "azureml-book-ch5-env"
    },
    "microsoft": {
      "host": {
        "AzureML": {
          "notebookHasBeenCompleted": true
        }
      }
    },
    "nteract": {
      "version": "nteract-front-end@1.0.0"
    },
    "vscode": {
      "interpreter": {
        "hash": "5eb98d59e4c59396fef2af5f6dfee2d59c26df76c0e5d1b9cac14e208e8ff5df"
      }
    }
  },
  "nbformat": 4,
  "nbformat_minor": 0
}
