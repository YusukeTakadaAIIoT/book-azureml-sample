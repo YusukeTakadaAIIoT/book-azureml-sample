{
  "cells": [
    {
      "cell_type": "markdown",
      "metadata": {
        "nteract": {
          "transient": {
            "deleting": false
          }
        }
      },
      "source": [
        "# 6章 MLflow による実験管理とモデル管理\n",
        "\n",
        "## autologによる実験記録"
      ]
    },
    {
      "cell_type": "markdown",
      "metadata": {
        "nteract": {
          "transient": {
            "deleting": false
          }
        }
      },
      "source": [
        "### 事前準備\n",
        "```bash\n",
        "conda env create -f conda.yaml\n",
        "conda activate azureml-book-ch6-env\n",
        "ipython kernel install --user --name=azureml-book-ch6-env\n",
        "```\n",
        "上記コマンドを1度だけ実行します。"
      ]
    },
    {
      "cell_type": "code",
      "execution_count": null,
      "metadata": {
        "gather": {
          "logged": 1713713858469
        }
      },
      "outputs": [],
      "source": [
        "import pandas as pd\n",
        "import lightgbm as lgb\n",
        "\n",
        "import mlflow\n",
        "from azure.ai.ml import MLClient\n",
        "from azure.identity import DefaultAzureCredential"
      ]
    },
    {
      "cell_type": "code",
      "execution_count": null,
      "metadata": {
        "gather": {
          "logged": 1713713855460
        },
        "jupyter": {
          "outputs_hidden": false,
          "source_hidden": false
        },
        "nteract": {
          "transient": {
            "deleting": false
          }
        }
      },
      "outputs": [],
      "source": [
        "# MLflow を Azure Machine Learning に接続\n",
        "\n",
        "subscription_id = \"SUBSCRIPTION_ID\"\n",
        "resource_group = \"RESOURCE_GROUP\"\n",
        "workspace = \"AML_WORKSPACE_NAME\"\n",
        "\n",
        "ml_client = MLClient(\n",
        "    DefaultAzureCredential(),\n",
        "    subscription_id,\n",
        "    resource_group,\n",
        "    workspace,\n",
        ")\n",
        "\n",
        "azureml_mlflow_uri = ml_client.workspaces.get(\n",
        "    ml_client.workspace_name\n",
        ").mlflow_tracking_uri\n",
        "\n",
        "mlflow.set_tracking_uri(azureml_mlflow_uri)"
      ]
    },
    {
      "cell_type": "code",
      "execution_count": null,
      "metadata": {
        "gather": {
          "logged": 1713713855916
        },
        "jupyter": {
          "outputs_hidden": false,
          "source_hidden": false
        },
        "nteract": {
          "transient": {
            "deleting": false
          }
        }
      },
      "outputs": [],
      "source": [
        "# Experiment 名を設定\n",
        "exp = mlflow.set_experiment(\"ch7-train-with-mlflow-autolog-notebook\")"
      ]
    },
    {
      "cell_type": "code",
      "execution_count": null,
      "metadata": {
        "gather": {
          "logged": 1713713802570
        },
        "jupyter": {
          "outputs_hidden": false,
          "source_hidden": false
        },
        "nteract": {
          "transient": {
            "deleting": false
          }
        }
      },
      "outputs": [],
      "source": [
        "# 学習データと検証データの読み込み\n",
        "df_train = pd.read_csv(\"../data/Walmert_train.csv\")\n",
        "df_valid = pd.read_csv(\"../data/Walmert_valid.csv\")\n",
        "\n",
        "# Date列からMonth列とDay列を追加し、Date列を削除\n",
        "df_train['Month'] = pd.to_datetime(df_train['Date']).dt.month\n",
        "df_train['Day'] = pd.to_datetime(df_train['Date']).dt.day\n",
        "df_train = df_train.drop(columns='Date')\n",
        "df_valid['Month'] = pd.to_datetime(df_valid['Date']).dt.month\n",
        "df_valid['Day'] = pd.to_datetime(df_valid['Date']).dt.day\n",
        "df_valid = df_valid.drop(columns='Date')\n",
        "\n",
        "# ターゲット変数となる列名を指定\n",
        "col_target = \"Weekly_Sales\"\n",
        "\n",
        "# 学習データと検証データを、特徴量とターゲット変数に分割\n",
        "X_train = df_train.drop(columns=col_target)\n",
        "y_train = df_train[col_target].to_numpy().ravel()\n",
        "X_valid = df_valid.drop(columns=col_target)\n",
        "y_valid = df_valid[col_target].to_numpy().ravel()"
      ]
    },
    {
      "cell_type": "code",
      "execution_count": null,
      "metadata": {
        "gather": {
          "logged": 1680619854409
        },
        "jupyter": {
          "outputs_hidden": false,
          "source_hidden": false
        },
        "nteract": {
          "transient": {
            "deleting": false
          }
        }
      },
      "outputs": [],
      "source": [
        "run = mlflow.start_run()"
      ]
    },
    {
      "cell_type": "code",
      "execution_count": null,
      "metadata": {
        "jupyter": {
          "outputs_hidden": false,
          "source_hidden": false
        },
        "nteract": {
          "transient": {
            "deleting": false
          }
        }
      },
      "outputs": [],
      "source": [
        "mlflow.lightgbm.autolog()"
      ]
    },
    {
      "cell_type": "code",
      "execution_count": null,
      "metadata": {},
      "outputs": [],
      "source": [
        "# LightGBMのデータセットに変換\n",
        "# model signature を自動取得するために autolog より後に lgb.Dataset インスタンスを作成する必要がある\n",
        "train_data = lgb.Dataset(X_train, label=y_train)\n",
        "valid_data = lgb.Dataset(X_valid, label=y_valid)"
      ]
    },
    {
      "cell_type": "code",
      "execution_count": null,
      "metadata": {
        "gather": {
          "logged": 1680619854514
        },
        "jupyter": {
          "outputs_hidden": false,
          "source_hidden": false
        },
        "nteract": {
          "transient": {
            "deleting": false
          }
        }
      },
      "outputs": [],
      "source": [
        "params = {\n",
        "    'objective': 'regression',\n",
        "    \"boosting_type\": \"gbdt\",\n",
        "    'metric': 'rmse',\n",
        "    'num_leaves': 20,\n",
        "    \"max_depth\": 10,\n",
        "    'learning_rate': 0.1,\n",
        "    \"device_type\": \"cpu\",\n",
        "    \"seed\": 42,\n",
        "    \"deterministic\": True,\n",
        "}"
      ]
    },
    {
      "cell_type": "code",
      "execution_count": null,
      "metadata": {
        "gather": {
          "logged": 1680619901429
        },
        "jupyter": {
          "outputs_hidden": false,
          "source_hidden": false
        },
        "nteract": {
          "transient": {
            "deleting": false
          }
        }
      },
      "outputs": [],
      "source": [
        "clf = lgb.train(\n",
        "    params,\n",
        "    train_set=train_data,\n",
        "    valid_sets=valid_data,\n",
        ")"
      ]
    },
    {
      "cell_type": "code",
      "execution_count": null,
      "metadata": {
        "gather": {
          "logged": 1680619904533
        },
        "jupyter": {
          "outputs_hidden": false,
          "source_hidden": false
        },
        "nteract": {
          "transient": {
            "deleting": false
          }
        }
      },
      "outputs": [],
      "source": [
        "mlflow.end_run()"
      ]
    }
  ],
  "metadata": {
    "kernel_info": {
      "name": "py311-ch7-env"
    },
    "kernelspec": {
      "display_name": "py311-ch7-env",
      "language": "python",
      "name": "python3"
    },
    "language_info": {
      "codemirror_mode": {
        "name": "ipython",
        "version": 3
      },
      "file_extension": ".py",
      "mimetype": "text/x-python",
      "name": "python",
      "nbconvert_exporter": "python",
      "pygments_lexer": "ipython3",
      "version": "3.11.9"
    },
    "microsoft": {
      "host": {
        "AzureML": {
          "notebookHasBeenCompleted": true
        }
      }
    },
    "nteract": {
      "version": "nteract-front-end@1.0.0"
    }
  },
  "nbformat": 4,
  "nbformat_minor": 2
}
