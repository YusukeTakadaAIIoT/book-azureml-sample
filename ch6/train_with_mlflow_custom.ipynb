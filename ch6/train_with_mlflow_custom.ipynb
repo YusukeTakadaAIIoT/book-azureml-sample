{
  "cells": [
    {
      "cell_type": "markdown",
      "metadata": {
        "nteract": {
          "transient": {
            "deleting": false
          }
        }
      },
      "source": [
        "# 6章 MLflow による実験管理とモデル管理\n",
        "\n",
        "## 汎用的な MLflow による実験記録およびモデル登録"
      ]
    },
    {
      "cell_type": "markdown",
      "metadata": {
        "nteract": {
          "transient": {
            "deleting": false
          }
        }
      },
      "source": [
        "### 事前準備\n",
        "```bash\n",
        "conda env create -f conda.yaml\n",
        "conda activate azureml-book-ch6-env\n",
        "ipython kernel install --user --name=azureml-book-ch6-env\n",
        "```\n",
        "上記コマンドを1度だけ実行します。"
      ]
    },
    {
      "cell_type": "code",
      "execution_count": null,
      "metadata": {
        "gather": {
          "logged": 1713713858469
        }
      },
      "outputs": [],
      "source": [
        "import pickle\n",
        "import os\n",
        "import shutil\n",
        "\n",
        "import pandas as pd\n",
        "from interpret.glassbox import ExplainableBoostingRegressor\n",
        "from interpret import show\n",
        "\n",
        "import mlflow\n",
        "from azure.ai.ml import MLClient\n",
        "from azure.identity import DefaultAzureCredential"
      ]
    },
    {
      "cell_type": "code",
      "execution_count": null,
      "metadata": {
        "gather": {
          "logged": 1713713855460
        },
        "jupyter": {
          "outputs_hidden": false,
          "source_hidden": false
        },
        "nteract": {
          "transient": {
            "deleting": false
          }
        }
      },
      "outputs": [],
      "source": [
        "# MLflow を Azure Machine Learning に接続\n",
        "\n",
        "subscription_id = \"SUBSCRIPTION_ID\"\n",
        "resource_group = \"RESOURCE_GROUP\"\n",
        "workspace = \"AML_WORKSPACE_NAME\"\n",
        "\n",
        "ml_client = MLClient(\n",
        "    DefaultAzureCredential(),\n",
        "    subscription_id,\n",
        "    resource_group,\n",
        "    workspace,\n",
        ")\n",
        "\n",
        "azureml_mlflow_uri = ml_client.workspaces.get(\n",
        "    ml_client.workspace_name\n",
        ").mlflow_tracking_uri\n",
        "\n",
        "mlflow.set_tracking_uri(azureml_mlflow_uri)"
      ]
    },
    {
      "cell_type": "code",
      "execution_count": null,
      "metadata": {
        "gather": {
          "logged": 1713713855916
        },
        "jupyter": {
          "outputs_hidden": false,
          "source_hidden": false
        },
        "nteract": {
          "transient": {
            "deleting": false
          }
        }
      },
      "outputs": [],
      "source": [
        "# Experiment 名を設定\n",
        "exp = mlflow.set_experiment(\"ch7-train-with-mlflow-custom-notebook\")"
      ]
    },
    {
      "cell_type": "code",
      "execution_count": null,
      "metadata": {
        "gather": {
          "logged": 1713713802570
        },
        "jupyter": {
          "outputs_hidden": false,
          "source_hidden": false
        },
        "nteract": {
          "transient": {
            "deleting": false
          }
        }
      },
      "outputs": [],
      "source": [
        "# 学習データと検証データの読み込み\n",
        "df_train = pd.read_csv(\"../data/Walmart_train.csv\")\n",
        "df_valid = pd.read_csv(\"../data/Walmart_valid.csv\")\n",
        "\n",
        "# Date列からMonth列とDay列を追加し、Date列を削除\n",
        "df_train['Month'] = pd.to_datetime(df_train['Date']).dt.month\n",
        "df_train['Day'] = pd.to_datetime(df_train['Date']).dt.day\n",
        "df_train = df_train.drop(columns='Date')\n",
        "df_valid['Month'] = pd.to_datetime(df_valid['Date']).dt.month\n",
        "df_valid['Day'] = pd.to_datetime(df_valid['Date']).dt.day\n",
        "df_valid = df_valid.drop(columns='Date')\n",
        "\n",
        "# ターゲット変数となる列名を指定\n",
        "col_target = \"Weekly_Sales\"\n",
        "\n",
        "# 学習データと検証データを、特徴量とターゲット変数に分割\n",
        "X_train = df_train.drop(columns=col_target)\n",
        "y_train = df_train[col_target].to_numpy().ravel()\n",
        "X_valid = df_valid.drop(columns=col_target)\n",
        "y_valid = df_valid[col_target].to_numpy().ravel()"
      ]
    },
    {
      "cell_type": "code",
      "execution_count": null,
      "metadata": {
        "gather": {
          "logged": 1680619854409
        },
        "jupyter": {
          "outputs_hidden": false,
          "source_hidden": false
        },
        "nteract": {
          "transient": {
            "deleting": false
          }
        }
      },
      "outputs": [],
      "source": [
        "run = mlflow.start_run()"
      ]
    },
    {
      "cell_type": "code",
      "execution_count": null,
      "metadata": {
        "gather": {
          "logged": 1680619854514
        },
        "jupyter": {
          "outputs_hidden": false,
          "source_hidden": false
        },
        "nteract": {
          "transient": {
            "deleting": false
          }
        }
      },
      "outputs": [],
      "source": [
        "params = {\n",
        "    'objective': \"rmse\",\n",
        "    'max_leaves': 20,\n",
        "    'learning_rate': 0.1,\n",
        "    'random_state': 42\n",
        "}\n",
        "\n",
        "# ハイパーパラメーターを記録\n",
        "mlflow.log_params(params)"
      ]
    },
    {
      "cell_type": "code",
      "execution_count": null,
      "metadata": {
        "gather": {
          "logged": 1680619901429
        },
        "jupyter": {
          "outputs_hidden": false,
          "source_hidden": false
        },
        "nteract": {
          "transient": {
            "deleting": false
          }
        }
      },
      "outputs": [],
      "source": [
        "# Explainable Boosting Machine で回帰を行う\n",
        "reg = ExplainableBoostingRegressor(**params)\n",
        "reg.fit(X_train, y_train)"
      ]
    },
    {
      "cell_type": "code",
      "execution_count": null,
      "metadata": {},
      "outputs": [],
      "source": [
        "# r_2 を計算\n",
        "r_2 = reg.score(X_valid, y_valid)\n",
        "print(r_2)\n",
        "# メトリックを記録\n",
        "mlflow.log_metric(\"r_2_valid\", r_2)"
      ]
    },
    {
      "cell_type": "code",
      "execution_count": null,
      "metadata": {},
      "outputs": [],
      "source": [
        "# モデルの説明を作成\n",
        "local_explanation = reg.explain_local(X_valid, y_valid)\n",
        "global_explanation = reg.explain_global()"
      ]
    },
    {
      "cell_type": "code",
      "execution_count": null,
      "metadata": {},
      "outputs": [],
      "source": [
        "show(local_explanation)"
      ]
    },
    {
      "cell_type": "code",
      "execution_count": null,
      "metadata": {},
      "outputs": [],
      "source": [
        "show(global_explanation)"
      ]
    },
    {
      "cell_type": "code",
      "execution_count": null,
      "metadata": {},
      "outputs": [],
      "source": [
        "# 各特徴量ごとの特徴量重要度や交互作用を可視化した図を記録\n",
        "for i in range(len(global_explanation.feature_names)):\n",
        "    global_explanation_fig = global_explanation.visualize(i)\n",
        "    mlflow.log_figure(global_explanation_fig, artifact_file=f'images/exp_{global_explanation.feature_names[i]}.png')"
      ]
    },
    {
      "cell_type": "code",
      "execution_count": null,
      "metadata": {},
      "outputs": [],
      "source": [
        "# モデルを保存\n",
        "filename = 'ebm_regressor.pkl'\n",
        "with open(filename,'wb') as f:\n",
        "    pickle.dump(reg,f)"
      ]
    },
    {
      "cell_type": "code",
      "execution_count": null,
      "metadata": {},
      "outputs": [],
      "source": [
        "# mlflow.pyfunc によるモデルのラップ\n",
        "artifacts = {\"ebm_model_path\": filename}\n",
        "\n",
        "signature = mlflow.models.signature.infer_signature(X_valid, y_valid)\n",
        "\n",
        "class EbmWrapper(mlflow.pyfunc.PythonModel):\n",
        "    def load_context(self, context):\n",
        "        import pickle\n",
        "        with open(context.artifacts[\"ebm_model_path\"], 'rb') as f:\n",
        "            self.regressor = pickle.load(f)\n",
        "\n",
        "    def predict(self, context, model_input):\n",
        "        return self.regressor.predict(model_input)"
      ]
    },
    {
      "cell_type": "code",
      "execution_count": null,
      "metadata": {},
      "outputs": [],
      "source": [
        "# ローカルに mlflow.pyfunc でラップしたモデルを記録する\n",
        "local_mlflow_model_path = \"mlflow_pyfunc_model\"\n",
        "\n",
        "if os.path.exists(local_mlflow_model_path):\n",
        "    shutil.rmtree(local_mlflow_model_path)\n",
        "\n",
        "mlflow.pyfunc.save_model(\n",
        "    path=local_mlflow_model_path,\n",
        "    python_model=EbmWrapper(),\n",
        "    conda_env=\"environment.yaml\",\n",
        "    artifacts=artifacts\n",
        ")"
      ]
    },
    {
      "cell_type": "code",
      "execution_count": null,
      "metadata": {},
      "outputs": [],
      "source": [
        "# モデルの動作確認\n",
        "loaded_model = mlflow.pyfunc.load_model(local_mlflow_model_path)\n",
        "loaded_model.predict(X_valid)"
      ]
    },
    {
      "cell_type": "code",
      "execution_count": null,
      "metadata": {},
      "outputs": [],
      "source": [
        "# モデルを記録する\n",
        "# registered_model_name を指定すれば同時に Model registry への登録も行われる\n",
        "mlflow.pyfunc.log_model(artifact_path=local_mlflow_model_path, \n",
        "                        loader_module=None, \n",
        "                        data_path=None, \n",
        "                        code_path=None,\n",
        "                        python_model=EbmWrapper(),\n",
        "                        #registered_model_name=\"ebm-wrapped-model\", \n",
        "                        conda_env=\"environment.yaml\",\n",
        "                        artifacts=artifacts)"
      ]
    },
    {
      "cell_type": "code",
      "execution_count": null,
      "metadata": {
        "gather": {
          "logged": 1680619904533
        },
        "jupyter": {
          "outputs_hidden": false,
          "source_hidden": false
        },
        "nteract": {
          "transient": {
            "deleting": false
          }
        }
      },
      "outputs": [],
      "source": [
        "mlflow.end_run()"
      ]
    }
  ],
  "metadata": {
    "kernel_info": {
      "name": "py311-ch7-env"
    },
    "kernelspec": {
      "display_name": "py311-ch7-env",
      "language": "python",
      "name": "python3"
    },
    "language_info": {
      "codemirror_mode": {
        "name": "ipython",
        "version": 3
      },
      "file_extension": ".py",
      "mimetype": "text/x-python",
      "name": "python",
      "nbconvert_exporter": "python",
      "pygments_lexer": "ipython3",
      "version": "3.11.9"
    },
    "microsoft": {
      "host": {
        "AzureML": {
          "notebookHasBeenCompleted": true
        }
      }
    },
    "nteract": {
      "version": "nteract-front-end@1.0.0"
    }
  },
  "nbformat": 4,
  "nbformat_minor": 2
}
