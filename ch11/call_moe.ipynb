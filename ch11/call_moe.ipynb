{
 "cells": [
  {
   "cell_type": "markdown",
   "metadata": {},
   "source": [
    "# 11章 基盤モデルとモデルカタログ マネージドオンラインエンドポイント推論"
   ]
  },
  {
   "cell_type": "markdown",
   "metadata": {},
   "source": [
    "読み出す環境変数を除き、コードの内容はcall_serverless_api.ipynbと同一です。\n",
    "\n",
    "サーバーレスAPIもマネージドオンラインエンドポイントも、(現時点では少なくともチャットタスクにおいては) 統一された使い勝手で利用できることを意味しています。"
   ]
  },
  {
   "cell_type": "code",
   "execution_count": 5,
   "metadata": {},
   "outputs": [],
   "source": [
    "import os\n",
    "from azure.ai.inference import ChatCompletionsClient\n",
    "from azure.ai.inference.models import SystemMessage, UserMessage\n",
    "from azure.core.credentials import AzureKeyCredential\n",
    "from dotenv import load_dotenv"
   ]
  },
  {
   "cell_type": "code",
   "execution_count": 6,
   "metadata": {},
   "outputs": [],
   "source": [
    "load_dotenv()\n",
    "\n",
    "endpoint = os.environ.get(\"MOE_ENDPOINT\")\n",
    "key = os.environ.get(\"MOE_KEY\")\n",
    "\n",
    "client = ChatCompletionsClient(\n",
    "    endpoint=endpoint,\n",
    "    credential=AzureKeyCredential(key)\n",
    ")"
   ]
  },
  {
   "cell_type": "code",
   "execution_count": null,
   "metadata": {},
   "outputs": [],
   "source": [
    "stream=True"
   ]
  },
  {
   "cell_type": "code",
   "execution_count": 7,
   "metadata": {},
   "outputs": [],
   "source": [
    "response = client.complete(\n",
    "    stream=stream,\n",
    "    messages=[\n",
    "        SystemMessage(content=\"あなたはAzure Machine Learningのエキスパートエージェントです。\"),\n",
    "        UserMessage(content=\"Azure Machine Learningについて説明してください。\"),\n",
    "    ]\n",
    ")\n",
    "\n",
    "if stream:\n",
    "    for update in response:\n",
    "        print(update.choices[0].delta.content or \"\", end=\"\", flush=True)\n",
    "else:\n",
    "    print(response[\"choices\"][0][\"message\"][\"content\"])"
   ]
  }
 ],
 "metadata": {
  "kernelspec": {
   "display_name": "py311-ch11-env",
   "language": "python",
   "name": "py311-ch11-env"
  },
  "language_info": {
   "codemirror_mode": {
    "name": "ipython",
    "version": 3
   },
   "file_extension": ".py",
   "mimetype": "text/x-python",
   "name": "python",
   "nbconvert_exporter": "python",
   "pygments_lexer": "ipython3",
   "version": "3.11.9"
  }
 },
 "nbformat": 4,
 "nbformat_minor": 2
}
